{
 "cells": [
  {
   "cell_type": "code",
   "execution_count": 1,
   "metadata": {},
   "outputs": [],
   "source": [
    "import pandas as pd"
   ]
  },
  {
   "cell_type": "code",
   "execution_count": 3,
   "metadata": {},
   "outputs": [
    {
     "data": {
      "text/html": [
       "<div>\n",
       "<style scoped>\n",
       "    .dataframe tbody tr th:only-of-type {\n",
       "        vertical-align: middle;\n",
       "    }\n",
       "\n",
       "    .dataframe tbody tr th {\n",
       "        vertical-align: top;\n",
       "    }\n",
       "\n",
       "    .dataframe thead th {\n",
       "        text-align: right;\n",
       "    }\n",
       "</style>\n",
       "<table border=\"1\" class=\"dataframe\">\n",
       "  <thead>\n",
       "    <tr style=\"text-align: right;\">\n",
       "      <th></th>\n",
       "      <th>student_id</th>\n",
       "      <th>assignment1_grade</th>\n",
       "      <th>assignment1_submission</th>\n",
       "      <th>assignment2_grade</th>\n",
       "      <th>assignment2_submission</th>\n",
       "      <th>assignment3_grade</th>\n",
       "      <th>assignment3_submission</th>\n",
       "      <th>assignment4_grade</th>\n",
       "      <th>assignment4_submission</th>\n",
       "      <th>assignment5_grade</th>\n",
       "      <th>assignment5_submission</th>\n",
       "      <th>assignment6_grade</th>\n",
       "      <th>assignment6_submission</th>\n",
       "    </tr>\n",
       "  </thead>\n",
       "  <tbody>\n",
       "    <tr>\n",
       "      <th>0</th>\n",
       "      <td>B73F2C11-70F0-E37D-8B10-1D20AFED50B1</td>\n",
       "      <td>92.733946</td>\n",
       "      <td>2015-11-02 06:55:34.282000000</td>\n",
       "      <td>83.030552</td>\n",
       "      <td>2015-11-09 02:22:58.938000000</td>\n",
       "      <td>67.164441</td>\n",
       "      <td>2015-11-12 08:58:33.998000000</td>\n",
       "      <td>53.011553</td>\n",
       "      <td>2015-11-16 01:21:24.663000000</td>\n",
       "      <td>47.710398</td>\n",
       "      <td>2015-11-20 13:24:59.692000000</td>\n",
       "      <td>38.168318</td>\n",
       "      <td>2015-11-22 18:31:15.934000000</td>\n",
       "    </tr>\n",
       "    <tr>\n",
       "      <th>1</th>\n",
       "      <td>98A0FAE0-A19A-13D2-4BB5-CFBFD94031D1</td>\n",
       "      <td>86.790821</td>\n",
       "      <td>2015-11-29 14:57:44.429000000</td>\n",
       "      <td>86.290821</td>\n",
       "      <td>2015-12-06 17:41:18.449000000</td>\n",
       "      <td>69.772657</td>\n",
       "      <td>2015-12-10 08:54:55.904000000</td>\n",
       "      <td>55.098125</td>\n",
       "      <td>2015-12-13 17:32:30.941000000</td>\n",
       "      <td>49.588313</td>\n",
       "      <td>2015-12-19 23:26:39.285000000</td>\n",
       "      <td>44.629482</td>\n",
       "      <td>2015-12-21 17:07:24.275000000</td>\n",
       "    </tr>\n",
       "  </tbody>\n",
       "</table>\n",
       "</div>"
      ],
      "text/plain": [
       "                             student_id  assignment1_grade  \\\n",
       "0  B73F2C11-70F0-E37D-8B10-1D20AFED50B1          92.733946   \n",
       "1  98A0FAE0-A19A-13D2-4BB5-CFBFD94031D1          86.790821   \n",
       "\n",
       "          assignment1_submission  assignment2_grade  \\\n",
       "0  2015-11-02 06:55:34.282000000          83.030552   \n",
       "1  2015-11-29 14:57:44.429000000          86.290821   \n",
       "\n",
       "          assignment2_submission  assignment3_grade  \\\n",
       "0  2015-11-09 02:22:58.938000000          67.164441   \n",
       "1  2015-12-06 17:41:18.449000000          69.772657   \n",
       "\n",
       "          assignment3_submission  assignment4_grade  \\\n",
       "0  2015-11-12 08:58:33.998000000          53.011553   \n",
       "1  2015-12-10 08:54:55.904000000          55.098125   \n",
       "\n",
       "          assignment4_submission  assignment5_grade  \\\n",
       "0  2015-11-16 01:21:24.663000000          47.710398   \n",
       "1  2015-12-13 17:32:30.941000000          49.588313   \n",
       "\n",
       "          assignment5_submission  assignment6_grade  \\\n",
       "0  2015-11-20 13:24:59.692000000          38.168318   \n",
       "1  2015-12-19 23:26:39.285000000          44.629482   \n",
       "\n",
       "          assignment6_submission  \n",
       "0  2015-11-22 18:31:15.934000000  \n",
       "1  2015-12-21 17:07:24.275000000  "
      ]
     },
     "execution_count": 3,
     "metadata": {},
     "output_type": "execute_result"
    }
   ],
   "source": [
    "df = pd.read_csv('data/grades.csv')\n",
    "df.head(2)"
   ]
  },
  {
   "cell_type": "code",
   "execution_count": 4,
   "metadata": {},
   "outputs": [
    {
     "data": {
      "text/html": [
       "<div>\n",
       "<style scoped>\n",
       "    .dataframe tbody tr th:only-of-type {\n",
       "        vertical-align: middle;\n",
       "    }\n",
       "\n",
       "    .dataframe tbody tr th {\n",
       "        vertical-align: top;\n",
       "    }\n",
       "\n",
       "    .dataframe thead th {\n",
       "        text-align: right;\n",
       "    }\n",
       "</style>\n",
       "<table border=\"1\" class=\"dataframe\">\n",
       "  <thead>\n",
       "    <tr style=\"text-align: right;\">\n",
       "      <th></th>\n",
       "      <th>student_id</th>\n",
       "      <th>assignment1_grade</th>\n",
       "      <th>assignment2_grade</th>\n",
       "      <th>assignment3_grade</th>\n",
       "    </tr>\n",
       "  </thead>\n",
       "  <tbody>\n",
       "    <tr>\n",
       "      <th>0</th>\n",
       "      <td>B73F2C11-70F0-E37D-8B10-1D20AFED50B1</td>\n",
       "      <td>92.733946</td>\n",
       "      <td>83.030552</td>\n",
       "      <td>67.164441</td>\n",
       "    </tr>\n",
       "    <tr>\n",
       "      <th>1</th>\n",
       "      <td>98A0FAE0-A19A-13D2-4BB5-CFBFD94031D1</td>\n",
       "      <td>86.790821</td>\n",
       "      <td>86.290821</td>\n",
       "      <td>69.772657</td>\n",
       "    </tr>\n",
       "  </tbody>\n",
       "</table>\n",
       "</div>"
      ],
      "text/plain": [
       "                             student_id  assignment1_grade  assignment2_grade  \\\n",
       "0  B73F2C11-70F0-E37D-8B10-1D20AFED50B1          92.733946          83.030552   \n",
       "1  98A0FAE0-A19A-13D2-4BB5-CFBFD94031D1          86.790821          86.290821   \n",
       "\n",
       "   assignment3_grade  \n",
       "0          67.164441  \n",
       "1          69.772657  "
      ]
     },
     "execution_count": 4,
     "metadata": {},
     "output_type": "execute_result"
    }
   ],
   "source": [
    "df1 = df.iloc[:,[0,1,3,5]]\n",
    "df1.head(2)"
   ]
  },
  {
   "cell_type": "code",
   "execution_count": 5,
   "metadata": {},
   "outputs": [
    {
     "name": "stdout",
     "output_type": "stream",
     "text": [
      "<class 'pandas.core.series.Series'>\n",
      "<class 'pandas.core.series.Series'>\n",
      "<class 'pandas.core.series.Series'>\n",
      "<class 'pandas.core.series.Series'>\n"
     ]
    },
    {
     "data": {
      "text/plain": [
       "student_id           None\n",
       "assignment1_grade    None\n",
       "assignment2_grade    None\n",
       "assignment3_grade    None\n",
       "dtype: object"
      ]
     },
     "execution_count": 5,
     "metadata": {},
     "output_type": "execute_result"
    }
   ],
   "source": [
    "df1.apply(lambda z: print(type(z)))"
   ]
  },
  {
   "cell_type": "code",
   "execution_count": 8,
   "metadata": {},
   "outputs": [
    {
     "name": "stderr",
     "output_type": "stream",
     "text": [
      "/Users/pawan/anaconda3/lib/python3.6/site-packages/ipykernel_launcher.py:1: SettingWithCopyWarning: \n",
      "A value is trying to be set on a copy of a slice from a DataFrame.\n",
      "Try using .loc[row_indexer,col_indexer] = value instead\n",
      "\n",
      "See the caveats in the documentation: http://pandas.pydata.org/pandas-docs/stable/indexing.html#indexing-view-versus-copy\n",
      "  \"\"\"Entry point for launching an IPython kernel.\n"
     ]
    }
   ],
   "source": [
    "df1['final'] = df1.apply(lambda row: (row[1]+row[2]+(2*row[3]))/400, axis=1)"
   ]
  },
  {
   "cell_type": "code",
   "execution_count": 9,
   "metadata": {},
   "outputs": [
    {
     "data": {
      "text/html": [
       "<div>\n",
       "<style scoped>\n",
       "    .dataframe tbody tr th:only-of-type {\n",
       "        vertical-align: middle;\n",
       "    }\n",
       "\n",
       "    .dataframe tbody tr th {\n",
       "        vertical-align: top;\n",
       "    }\n",
       "\n",
       "    .dataframe thead th {\n",
       "        text-align: right;\n",
       "    }\n",
       "</style>\n",
       "<table border=\"1\" class=\"dataframe\">\n",
       "  <thead>\n",
       "    <tr style=\"text-align: right;\">\n",
       "      <th></th>\n",
       "      <th>student_id</th>\n",
       "      <th>assignment1_grade</th>\n",
       "      <th>assignment2_grade</th>\n",
       "      <th>assignment3_grade</th>\n",
       "      <th>final</th>\n",
       "    </tr>\n",
       "  </thead>\n",
       "  <tbody>\n",
       "    <tr>\n",
       "      <th>0</th>\n",
       "      <td>B73F2C11-70F0-E37D-8B10-1D20AFED50B1</td>\n",
       "      <td>92.733946</td>\n",
       "      <td>83.030552</td>\n",
       "      <td>67.164441</td>\n",
       "      <td>0.775233</td>\n",
       "    </tr>\n",
       "    <tr>\n",
       "      <th>1</th>\n",
       "      <td>98A0FAE0-A19A-13D2-4BB5-CFBFD94031D1</td>\n",
       "      <td>86.790821</td>\n",
       "      <td>86.290821</td>\n",
       "      <td>69.772657</td>\n",
       "      <td>0.781567</td>\n",
       "    </tr>\n",
       "  </tbody>\n",
       "</table>\n",
       "</div>"
      ],
      "text/plain": [
       "                             student_id  assignment1_grade  assignment2_grade  \\\n",
       "0  B73F2C11-70F0-E37D-8B10-1D20AFED50B1          92.733946          83.030552   \n",
       "1  98A0FAE0-A19A-13D2-4BB5-CFBFD94031D1          86.790821          86.290821   \n",
       "\n",
       "   assignment3_grade     final  \n",
       "0          67.164441  0.775233  \n",
       "1          69.772657  0.781567  "
      ]
     },
     "execution_count": 9,
     "metadata": {},
     "output_type": "execute_result"
    }
   ],
   "source": [
    "df1.head(2)"
   ]
  },
  {
   "cell_type": "code",
   "execution_count": 12,
   "metadata": {},
   "outputs": [
    {
     "data": {
      "text/plain": [
       "23"
      ]
     },
     "execution_count": 12,
     "metadata": {},
     "output_type": "execute_result"
    }
   ],
   "source": [
    "ns = int(len(df1) * 0.01)\n",
    "ns"
   ]
  },
  {
   "cell_type": "code",
   "execution_count": 14,
   "metadata": {},
   "outputs": [
    {
     "data": {
      "text/plain": [
       "0    1424\n",
       "1      15\n",
       "2     226\n",
       "3    2237\n",
       "4     339\n",
       "Name: final, dtype: int64"
      ]
     },
     "execution_count": 14,
     "metadata": {},
     "output_type": "execute_result"
    }
   ],
   "source": [
    "df1.final.argsort().head()"
   ]
  },
  {
   "cell_type": "code",
   "execution_count": 15,
   "metadata": {},
   "outputs": [
    {
     "data": {
      "text/plain": [
       "0.13341549732972496"
      ]
     },
     "execution_count": 15,
     "metadata": {},
     "output_type": "execute_result"
    }
   ],
   "source": [
    "df1.final[1424]"
   ]
  },
  {
   "cell_type": "code",
   "execution_count": 22,
   "metadata": {},
   "outputs": [
    {
     "data": {
      "text/plain": [
       "0    1424\n",
       "1      15\n",
       "2     226\n",
       "3    2237\n",
       "4     339\n",
       "Name: final, dtype: int64"
      ]
     },
     "execution_count": 22,
     "metadata": {},
     "output_type": "execute_result"
    }
   ],
   "source": [
    "indicies = df1.final.argsort()\n",
    "indicies.head()"
   ]
  },
  {
   "cell_type": "code",
   "execution_count": 17,
   "metadata": {},
   "outputs": [
    {
     "data": {
      "text/plain": [
       "0.9958171499128285"
      ]
     },
     "execution_count": 17,
     "metadata": {},
     "output_type": "execute_result"
    }
   ],
   "source": [
    "df1.final[369]"
   ]
  },
  {
   "cell_type": "code",
   "execution_count": 23,
   "metadata": {},
   "outputs": [
    {
     "data": {
      "text/html": [
       "<div>\n",
       "<style scoped>\n",
       "    .dataframe tbody tr th:only-of-type {\n",
       "        vertical-align: middle;\n",
       "    }\n",
       "\n",
       "    .dataframe tbody tr th {\n",
       "        vertical-align: top;\n",
       "    }\n",
       "\n",
       "    .dataframe thead th {\n",
       "        text-align: right;\n",
       "    }\n",
       "</style>\n",
       "<table border=\"1\" class=\"dataframe\">\n",
       "  <thead>\n",
       "    <tr style=\"text-align: right;\">\n",
       "      <th></th>\n",
       "      <th>student_id</th>\n",
       "      <th>assignment1_grade</th>\n",
       "      <th>assignment2_grade</th>\n",
       "      <th>assignment3_grade</th>\n",
       "      <th>final</th>\n",
       "    </tr>\n",
       "  </thead>\n",
       "  <tbody>\n",
       "    <tr>\n",
       "      <th>369</th>\n",
       "      <td>DDE0526B-7DA4-80E8-C2A6-D097F3826029</td>\n",
       "      <td>99.581715</td>\n",
       "      <td>99.581715</td>\n",
       "      <td>99.581715</td>\n",
       "      <td>0.995817</td>\n",
       "    </tr>\n",
       "    <tr>\n",
       "      <th>619</th>\n",
       "      <td>2B806EF6-A590-1C00-F0C5-1469E3B2152E</td>\n",
       "      <td>99.455813</td>\n",
       "      <td>98.955813</td>\n",
       "      <td>99.655813</td>\n",
       "      <td>0.994308</td>\n",
       "    </tr>\n",
       "    <tr>\n",
       "      <th>376</th>\n",
       "      <td>1F51E050-78F7-F270-1B90-ED1BC0376763</td>\n",
       "      <td>99.435672</td>\n",
       "      <td>98.935672</td>\n",
       "      <td>99.635672</td>\n",
       "      <td>0.994107</td>\n",
       "    </tr>\n",
       "    <tr>\n",
       "      <th>585</th>\n",
       "      <td>EFDA9F93-D0C3-864F-B0F6-2E9AA3E05E31</td>\n",
       "      <td>99.134693</td>\n",
       "      <td>99.134693</td>\n",
       "      <td>99.134693</td>\n",
       "      <td>0.991347</td>\n",
       "    </tr>\n",
       "    <tr>\n",
       "      <th>1174</th>\n",
       "      <td>2B806EF6-A590-1C00-F0C5-1469E3B2152E</td>\n",
       "      <td>97.952182</td>\n",
       "      <td>97.452182</td>\n",
       "      <td>98.152182</td>\n",
       "      <td>0.979272</td>\n",
       "    </tr>\n",
       "    <tr>\n",
       "      <th>300</th>\n",
       "      <td>DDE0526B-7DA4-80E8-C2A6-D097F3826029</td>\n",
       "      <td>97.604671</td>\n",
       "      <td>97.604671</td>\n",
       "      <td>97.604671</td>\n",
       "      <td>0.976047</td>\n",
       "    </tr>\n",
       "    <tr>\n",
       "      <th>1099</th>\n",
       "      <td>6D2AB78F-44F4-2E8B-5C5E-B79119BC7EAC</td>\n",
       "      <td>97.571739</td>\n",
       "      <td>97.571739</td>\n",
       "      <td>97.571739</td>\n",
       "      <td>0.975717</td>\n",
       "    </tr>\n",
       "    <tr>\n",
       "      <th>2160</th>\n",
       "      <td>6D2AB78F-44F4-2E8B-5C5E-B79119BC7EAC</td>\n",
       "      <td>97.473243</td>\n",
       "      <td>96.973243</td>\n",
       "      <td>97.673243</td>\n",
       "      <td>0.974482</td>\n",
       "    </tr>\n",
       "    <tr>\n",
       "      <th>903</th>\n",
       "      <td>247B105C-2067-A7AA-2CBE-B65278128C96</td>\n",
       "      <td>97.388763</td>\n",
       "      <td>96.888763</td>\n",
       "      <td>97.588763</td>\n",
       "      <td>0.973638</td>\n",
       "    </tr>\n",
       "    <tr>\n",
       "      <th>881</th>\n",
       "      <td>1F51E050-78F7-F270-1B90-ED1BC0376763</td>\n",
       "      <td>97.277300</td>\n",
       "      <td>96.777300</td>\n",
       "      <td>97.477300</td>\n",
       "      <td>0.972523</td>\n",
       "    </tr>\n",
       "    <tr>\n",
       "      <th>1218</th>\n",
       "      <td>25197F10-E9E9-4C50-63F8-6C896975AAE2</td>\n",
       "      <td>97.087879</td>\n",
       "      <td>97.087879</td>\n",
       "      <td>97.087879</td>\n",
       "      <td>0.970879</td>\n",
       "    </tr>\n",
       "    <tr>\n",
       "      <th>1229</th>\n",
       "      <td>DE88902E-C7A7-E37A-CFA7-F2C8F2D219F2</td>\n",
       "      <td>96.982689</td>\n",
       "      <td>96.482689</td>\n",
       "      <td>97.182689</td>\n",
       "      <td>0.969577</td>\n",
       "    </tr>\n",
       "    <tr>\n",
       "      <th>1630</th>\n",
       "      <td>247B105C-2067-A7AA-2CBE-B65278128C96</td>\n",
       "      <td>96.819632</td>\n",
       "      <td>96.819632</td>\n",
       "      <td>96.819632</td>\n",
       "      <td>0.968196</td>\n",
       "    </tr>\n",
       "    <tr>\n",
       "      <th>1960</th>\n",
       "      <td>5AB0D44C-86FF-2DE6-B096-B0F5D029E430</td>\n",
       "      <td>96.478922</td>\n",
       "      <td>95.978922</td>\n",
       "      <td>96.678922</td>\n",
       "      <td>0.964539</td>\n",
       "    </tr>\n",
       "    <tr>\n",
       "      <th>86</th>\n",
       "      <td>42A3C4F0-7032-7368-2D67-989735754020</td>\n",
       "      <td>96.219108</td>\n",
       "      <td>96.219108</td>\n",
       "      <td>96.219108</td>\n",
       "      <td>0.962191</td>\n",
       "    </tr>\n",
       "    <tr>\n",
       "      <th>667</th>\n",
       "      <td>DE88902E-C7A7-E37A-CFA7-F2C8F2D219F2</td>\n",
       "      <td>95.944829</td>\n",
       "      <td>95.444829</td>\n",
       "      <td>96.144829</td>\n",
       "      <td>0.959198</td>\n",
       "    </tr>\n",
       "    <tr>\n",
       "      <th>198</th>\n",
       "      <td>1F51E050-78F7-F270-1B90-ED1BC0376763</td>\n",
       "      <td>95.718485</td>\n",
       "      <td>95.718485</td>\n",
       "      <td>95.718485</td>\n",
       "      <td>0.957185</td>\n",
       "    </tr>\n",
       "    <tr>\n",
       "      <th>58</th>\n",
       "      <td>25197F10-E9E9-4C50-63F8-6C896975AAE2</td>\n",
       "      <td>95.568756</td>\n",
       "      <td>95.068756</td>\n",
       "      <td>95.768756</td>\n",
       "      <td>0.955438</td>\n",
       "    </tr>\n",
       "    <tr>\n",
       "      <th>1319</th>\n",
       "      <td>DE88902E-C7A7-E37A-CFA7-F2C8F2D219F2</td>\n",
       "      <td>95.511848</td>\n",
       "      <td>95.011848</td>\n",
       "      <td>95.711848</td>\n",
       "      <td>0.954868</td>\n",
       "    </tr>\n",
       "    <tr>\n",
       "      <th>459</th>\n",
       "      <td>25197F10-E9E9-4C50-63F8-6C896975AAE2</td>\n",
       "      <td>95.425696</td>\n",
       "      <td>94.925696</td>\n",
       "      <td>95.625696</td>\n",
       "      <td>0.954007</td>\n",
       "    </tr>\n",
       "    <tr>\n",
       "      <th>1284</th>\n",
       "      <td>247B105C-2067-A7AA-2CBE-B65278128C96</td>\n",
       "      <td>95.271325</td>\n",
       "      <td>95.271325</td>\n",
       "      <td>95.271325</td>\n",
       "      <td>0.952713</td>\n",
       "    </tr>\n",
       "    <tr>\n",
       "      <th>1815</th>\n",
       "      <td>247B105C-2067-A7AA-2CBE-B65278128C96</td>\n",
       "      <td>95.251208</td>\n",
       "      <td>94.751208</td>\n",
       "      <td>95.451208</td>\n",
       "      <td>0.952262</td>\n",
       "    </tr>\n",
       "    <tr>\n",
       "      <th>895</th>\n",
       "      <td>5AB0D44C-86FF-2DE6-B096-B0F5D029E430</td>\n",
       "      <td>99.835987</td>\n",
       "      <td>99.835987</td>\n",
       "      <td>89.852389</td>\n",
       "      <td>0.948442</td>\n",
       "    </tr>\n",
       "  </tbody>\n",
       "</table>\n",
       "</div>"
      ],
      "text/plain": [
       "                                student_id  assignment1_grade  \\\n",
       "369   DDE0526B-7DA4-80E8-C2A6-D097F3826029          99.581715   \n",
       "619   2B806EF6-A590-1C00-F0C5-1469E3B2152E          99.455813   \n",
       "376   1F51E050-78F7-F270-1B90-ED1BC0376763          99.435672   \n",
       "585   EFDA9F93-D0C3-864F-B0F6-2E9AA3E05E31          99.134693   \n",
       "1174  2B806EF6-A590-1C00-F0C5-1469E3B2152E          97.952182   \n",
       "300   DDE0526B-7DA4-80E8-C2A6-D097F3826029          97.604671   \n",
       "1099  6D2AB78F-44F4-2E8B-5C5E-B79119BC7EAC          97.571739   \n",
       "2160  6D2AB78F-44F4-2E8B-5C5E-B79119BC7EAC          97.473243   \n",
       "903   247B105C-2067-A7AA-2CBE-B65278128C96          97.388763   \n",
       "881   1F51E050-78F7-F270-1B90-ED1BC0376763          97.277300   \n",
       "1218  25197F10-E9E9-4C50-63F8-6C896975AAE2          97.087879   \n",
       "1229  DE88902E-C7A7-E37A-CFA7-F2C8F2D219F2          96.982689   \n",
       "1630  247B105C-2067-A7AA-2CBE-B65278128C96          96.819632   \n",
       "1960  5AB0D44C-86FF-2DE6-B096-B0F5D029E430          96.478922   \n",
       "86    42A3C4F0-7032-7368-2D67-989735754020          96.219108   \n",
       "667   DE88902E-C7A7-E37A-CFA7-F2C8F2D219F2          95.944829   \n",
       "198   1F51E050-78F7-F270-1B90-ED1BC0376763          95.718485   \n",
       "58    25197F10-E9E9-4C50-63F8-6C896975AAE2          95.568756   \n",
       "1319  DE88902E-C7A7-E37A-CFA7-F2C8F2D219F2          95.511848   \n",
       "459   25197F10-E9E9-4C50-63F8-6C896975AAE2          95.425696   \n",
       "1284  247B105C-2067-A7AA-2CBE-B65278128C96          95.271325   \n",
       "1815  247B105C-2067-A7AA-2CBE-B65278128C96          95.251208   \n",
       "895   5AB0D44C-86FF-2DE6-B096-B0F5D029E430          99.835987   \n",
       "\n",
       "      assignment2_grade  assignment3_grade     final  \n",
       "369           99.581715          99.581715  0.995817  \n",
       "619           98.955813          99.655813  0.994308  \n",
       "376           98.935672          99.635672  0.994107  \n",
       "585           99.134693          99.134693  0.991347  \n",
       "1174          97.452182          98.152182  0.979272  \n",
       "300           97.604671          97.604671  0.976047  \n",
       "1099          97.571739          97.571739  0.975717  \n",
       "2160          96.973243          97.673243  0.974482  \n",
       "903           96.888763          97.588763  0.973638  \n",
       "881           96.777300          97.477300  0.972523  \n",
       "1218          97.087879          97.087879  0.970879  \n",
       "1229          96.482689          97.182689  0.969577  \n",
       "1630          96.819632          96.819632  0.968196  \n",
       "1960          95.978922          96.678922  0.964539  \n",
       "86            96.219108          96.219108  0.962191  \n",
       "667           95.444829          96.144829  0.959198  \n",
       "198           95.718485          95.718485  0.957185  \n",
       "58            95.068756          95.768756  0.955438  \n",
       "1319          95.011848          95.711848  0.954868  \n",
       "459           94.925696          95.625696  0.954007  \n",
       "1284          95.271325          95.271325  0.952713  \n",
       "1815          94.751208          95.451208  0.952262  \n",
       "895           99.835987          89.852389  0.948442  "
      ]
     },
     "execution_count": 23,
     "metadata": {},
     "output_type": "execute_result"
    }
   ],
   "source": [
    "df1.iloc[indicies[-ns:]][::-1]"
   ]
  },
  {
   "cell_type": "code",
   "execution_count": null,
   "metadata": {},
   "outputs": [],
   "source": []
  }
 ],
 "metadata": {
  "kernelspec": {
   "display_name": "Python 3",
   "language": "python",
   "name": "python3"
  },
  "language_info": {
   "codemirror_mode": {
    "name": "ipython",
    "version": 3
   },
   "file_extension": ".py",
   "mimetype": "text/x-python",
   "name": "python",
   "nbconvert_exporter": "python",
   "pygments_lexer": "ipython3",
   "version": "3.6.4"
  }
 },
 "nbformat": 4,
 "nbformat_minor": 2
}
